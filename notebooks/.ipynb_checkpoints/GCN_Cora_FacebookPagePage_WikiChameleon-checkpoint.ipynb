{
 "cells": [
  {
   "cell_type": "markdown",
   "id": "b61992d3-4e70-40fb-b934-c755a8bd5309",
   "metadata": {},
   "source": [
    "## The CORA Dataset\n",
    "\n",
    "The Cora dataset consists of 2708 scientific publications classified into one of seven classes. The citation network consists of 5429 links. Each publication in the dataset is described by a 0/1-valued word vector indicating the absence/presence of the corresponding word from the dictionary. The dictionary consists of 1433 unique words.\n",
    "\n",
    "![cora dataset](figures/yEd-live-cora.png)"
   ]
  },
  {
   "cell_type": "code",
   "execution_count": null,
   "id": "07f842a1-41da-42d2-96e6-8e0712f6ddd8",
   "metadata": {},
   "outputs": [],
   "source": []
  }
 ],
 "metadata": {
  "kernelspec": {
   "display_name": "Python 3 (ipykernel)",
   "language": "python",
   "name": "python3"
  },
  "language_info": {
   "codemirror_mode": {
    "name": "ipython",
    "version": 3
   },
   "file_extension": ".py",
   "mimetype": "text/x-python",
   "name": "python",
   "nbconvert_exporter": "python",
   "pygments_lexer": "ipython3",
   "version": "3.12.3"
  }
 },
 "nbformat": 4,
 "nbformat_minor": 5
}
