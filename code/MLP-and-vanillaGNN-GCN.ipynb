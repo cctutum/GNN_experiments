{
 "cells": [
  {
   "cell_type": "markdown",
   "id": "d7efc70e-36b6-4f2d-b984-fb41bf3d7b29",
   "metadata": {},
   "source": [
    "## Import Cora and Facebook/Page-Page daasets"
   ]
  },
  {
   "cell_type": "code",
   "execution_count": 1,
   "id": "4012426d-bef6-4bc1-8195-6b025c482bf5",
   "metadata": {},
   "outputs": [
    {
     "name": "stdout",
     "output_type": "stream",
     "text": [
      "Data(x=[2708, 1433], edge_index=[2, 10556], y=[2708], train_mask=[2708], val_mask=[2708], test_mask=[2708])\n",
      "Data(x=[22470, 128], edge_index=[2, 342004], y=[22470], train_mask=[18000], val_mask=[1999], test_mask=[2469])\n"
     ]
    }
   ],
   "source": [
    "from torch_geometric.datasets import Planetoid\n",
    "from torch_geometric.datasets import FacebookPagePage\n",
    "\n",
    "dataset_cora = Planetoid(root=\"../data\", name=\"Cora\")\n",
    "dataset_facebook = FacebookPagePage(root=\"../data/Facebook-Page-Page\")\n",
    "\n",
    "data_cora = dataset_cora[0]\n",
    "data_facebook = dataset_facebook[0]\n",
    "\n",
    "# Unlike Cora, Facebook Page-Page doesn’t have training, evaluation, and test masks by\n",
    "# default. We can arbitrarily create masks with the range() function:\n",
    "data_facebook.train_mask = range(18000)\n",
    "data_facebook.val_mask = range(18001, 20000)\n",
    "data_facebook.test_mask = range(20001, 22470)\n",
    "\n",
    "print(data_cora)\n",
    "print(data_facebook)"
   ]
  },
  {
   "cell_type": "markdown",
   "id": "038ba3dc-ddb0-4629-a81c-86e5736fea50",
   "metadata": {},
   "source": [
    "Cora is a popular dataset for node classification in the scientific literature. It represents a network of 2,708 publications (**nodes**), where each connection is a reference (**edge**). Each publication is described as a binary vector of 1,433 unique words (**node features**), where 0 and 1 indicate the absence or presence of the corresponding word, respectively. Each node has a class label from 7 **classes**.  "
   ]
  },
  {
   "cell_type": "markdown",
   "id": "e917c116-99d7-4d4d-98bd-fcd6a42ce6e0",
   "metadata": {},
   "source": [
    "## Classifying nodes with vanilla neural networks"
   ]
  },
  {
   "cell_type": "markdown",
   "id": "8c9165e5-ab80-4de6-aa67-4e2e19da6c10",
   "metadata": {},
   "source": [
    "We will consider node features (i.e., 1,433) as a regular tabular dataset. We will train a simple neural\n",
    "network (MLP) on this dataset to classify our nodes. Note that this architecture does not take into account\n",
    "the topology of the network. We will try to fix this issue with a vanilla GNN and GCN, then compare the results."
   ]
  },
  {
   "cell_type": "code",
   "execution_count": 2,
   "id": "8bc6b31e-c00a-445c-b630-2e4f5110df9b",
   "metadata": {},
   "outputs": [
    {
     "data": {
      "text/html": [
       "<div>\n",
       "<style scoped>\n",
       "    .dataframe tbody tr th:only-of-type {\n",
       "        vertical-align: middle;\n",
       "    }\n",
       "\n",
       "    .dataframe tbody tr th {\n",
       "        vertical-align: top;\n",
       "    }\n",
       "\n",
       "    .dataframe thead th {\n",
       "        text-align: right;\n",
       "    }\n",
       "</style>\n",
       "<table border=\"1\" class=\"dataframe\">\n",
       "  <thead>\n",
       "    <tr style=\"text-align: right;\">\n",
       "      <th></th>\n",
       "      <th>0</th>\n",
       "      <th>1</th>\n",
       "      <th>2</th>\n",
       "      <th>3</th>\n",
       "      <th>4</th>\n",
       "      <th>5</th>\n",
       "      <th>6</th>\n",
       "      <th>7</th>\n",
       "      <th>8</th>\n",
       "      <th>9</th>\n",
       "      <th>...</th>\n",
       "      <th>1424</th>\n",
       "      <th>1425</th>\n",
       "      <th>1426</th>\n",
       "      <th>1427</th>\n",
       "      <th>1428</th>\n",
       "      <th>1429</th>\n",
       "      <th>1430</th>\n",
       "      <th>1431</th>\n",
       "      <th>1432</th>\n",
       "      <th>label</th>\n",
       "    </tr>\n",
       "  </thead>\n",
       "  <tbody>\n",
       "    <tr>\n",
       "      <th>0</th>\n",
       "      <td>0.0</td>\n",
       "      <td>0.0</td>\n",
       "      <td>0.0</td>\n",
       "      <td>0.0</td>\n",
       "      <td>0.0</td>\n",
       "      <td>0.0</td>\n",
       "      <td>0.0</td>\n",
       "      <td>0.0</td>\n",
       "      <td>0.0</td>\n",
       "      <td>0.0</td>\n",
       "      <td>...</td>\n",
       "      <td>0.0</td>\n",
       "      <td>0.0</td>\n",
       "      <td>0.0</td>\n",
       "      <td>0.0</td>\n",
       "      <td>0.0</td>\n",
       "      <td>0.0</td>\n",
       "      <td>0.0</td>\n",
       "      <td>0.0</td>\n",
       "      <td>0.0</td>\n",
       "      <td>3</td>\n",
       "    </tr>\n",
       "    <tr>\n",
       "      <th>1</th>\n",
       "      <td>0.0</td>\n",
       "      <td>0.0</td>\n",
       "      <td>0.0</td>\n",
       "      <td>0.0</td>\n",
       "      <td>0.0</td>\n",
       "      <td>0.0</td>\n",
       "      <td>0.0</td>\n",
       "      <td>0.0</td>\n",
       "      <td>0.0</td>\n",
       "      <td>0.0</td>\n",
       "      <td>...</td>\n",
       "      <td>0.0</td>\n",
       "      <td>0.0</td>\n",
       "      <td>0.0</td>\n",
       "      <td>0.0</td>\n",
       "      <td>0.0</td>\n",
       "      <td>0.0</td>\n",
       "      <td>0.0</td>\n",
       "      <td>0.0</td>\n",
       "      <td>0.0</td>\n",
       "      <td>4</td>\n",
       "    </tr>\n",
       "    <tr>\n",
       "      <th>2</th>\n",
       "      <td>0.0</td>\n",
       "      <td>0.0</td>\n",
       "      <td>0.0</td>\n",
       "      <td>0.0</td>\n",
       "      <td>0.0</td>\n",
       "      <td>0.0</td>\n",
       "      <td>0.0</td>\n",
       "      <td>0.0</td>\n",
       "      <td>0.0</td>\n",
       "      <td>0.0</td>\n",
       "      <td>...</td>\n",
       "      <td>0.0</td>\n",
       "      <td>0.0</td>\n",
       "      <td>0.0</td>\n",
       "      <td>0.0</td>\n",
       "      <td>0.0</td>\n",
       "      <td>0.0</td>\n",
       "      <td>0.0</td>\n",
       "      <td>0.0</td>\n",
       "      <td>0.0</td>\n",
       "      <td>4</td>\n",
       "    </tr>\n",
       "    <tr>\n",
       "      <th>3</th>\n",
       "      <td>0.0</td>\n",
       "      <td>0.0</td>\n",
       "      <td>0.0</td>\n",
       "      <td>0.0</td>\n",
       "      <td>0.0</td>\n",
       "      <td>0.0</td>\n",
       "      <td>0.0</td>\n",
       "      <td>0.0</td>\n",
       "      <td>0.0</td>\n",
       "      <td>0.0</td>\n",
       "      <td>...</td>\n",
       "      <td>0.0</td>\n",
       "      <td>0.0</td>\n",
       "      <td>0.0</td>\n",
       "      <td>0.0</td>\n",
       "      <td>0.0</td>\n",
       "      <td>0.0</td>\n",
       "      <td>0.0</td>\n",
       "      <td>0.0</td>\n",
       "      <td>0.0</td>\n",
       "      <td>0</td>\n",
       "    </tr>\n",
       "    <tr>\n",
       "      <th>4</th>\n",
       "      <td>0.0</td>\n",
       "      <td>0.0</td>\n",
       "      <td>0.0</td>\n",
       "      <td>1.0</td>\n",
       "      <td>0.0</td>\n",
       "      <td>0.0</td>\n",
       "      <td>0.0</td>\n",
       "      <td>0.0</td>\n",
       "      <td>0.0</td>\n",
       "      <td>0.0</td>\n",
       "      <td>...</td>\n",
       "      <td>0.0</td>\n",
       "      <td>0.0</td>\n",
       "      <td>0.0</td>\n",
       "      <td>0.0</td>\n",
       "      <td>0.0</td>\n",
       "      <td>0.0</td>\n",
       "      <td>0.0</td>\n",
       "      <td>0.0</td>\n",
       "      <td>0.0</td>\n",
       "      <td>3</td>\n",
       "    </tr>\n",
       "    <tr>\n",
       "      <th>...</th>\n",
       "      <td>...</td>\n",
       "      <td>...</td>\n",
       "      <td>...</td>\n",
       "      <td>...</td>\n",
       "      <td>...</td>\n",
       "      <td>...</td>\n",
       "      <td>...</td>\n",
       "      <td>...</td>\n",
       "      <td>...</td>\n",
       "      <td>...</td>\n",
       "      <td>...</td>\n",
       "      <td>...</td>\n",
       "      <td>...</td>\n",
       "      <td>...</td>\n",
       "      <td>...</td>\n",
       "      <td>...</td>\n",
       "      <td>...</td>\n",
       "      <td>...</td>\n",
       "      <td>...</td>\n",
       "      <td>...</td>\n",
       "      <td>...</td>\n",
       "    </tr>\n",
       "    <tr>\n",
       "      <th>2703</th>\n",
       "      <td>0.0</td>\n",
       "      <td>0.0</td>\n",
       "      <td>0.0</td>\n",
       "      <td>0.0</td>\n",
       "      <td>0.0</td>\n",
       "      <td>1.0</td>\n",
       "      <td>0.0</td>\n",
       "      <td>0.0</td>\n",
       "      <td>0.0</td>\n",
       "      <td>0.0</td>\n",
       "      <td>...</td>\n",
       "      <td>0.0</td>\n",
       "      <td>1.0</td>\n",
       "      <td>0.0</td>\n",
       "      <td>0.0</td>\n",
       "      <td>0.0</td>\n",
       "      <td>0.0</td>\n",
       "      <td>0.0</td>\n",
       "      <td>0.0</td>\n",
       "      <td>0.0</td>\n",
       "      <td>3</td>\n",
       "    </tr>\n",
       "    <tr>\n",
       "      <th>2704</th>\n",
       "      <td>0.0</td>\n",
       "      <td>0.0</td>\n",
       "      <td>1.0</td>\n",
       "      <td>0.0</td>\n",
       "      <td>0.0</td>\n",
       "      <td>0.0</td>\n",
       "      <td>0.0</td>\n",
       "      <td>0.0</td>\n",
       "      <td>0.0</td>\n",
       "      <td>0.0</td>\n",
       "      <td>...</td>\n",
       "      <td>0.0</td>\n",
       "      <td>0.0</td>\n",
       "      <td>0.0</td>\n",
       "      <td>0.0</td>\n",
       "      <td>0.0</td>\n",
       "      <td>0.0</td>\n",
       "      <td>0.0</td>\n",
       "      <td>0.0</td>\n",
       "      <td>0.0</td>\n",
       "      <td>3</td>\n",
       "    </tr>\n",
       "    <tr>\n",
       "      <th>2705</th>\n",
       "      <td>0.0</td>\n",
       "      <td>0.0</td>\n",
       "      <td>0.0</td>\n",
       "      <td>0.0</td>\n",
       "      <td>0.0</td>\n",
       "      <td>0.0</td>\n",
       "      <td>0.0</td>\n",
       "      <td>0.0</td>\n",
       "      <td>0.0</td>\n",
       "      <td>0.0</td>\n",
       "      <td>...</td>\n",
       "      <td>0.0</td>\n",
       "      <td>0.0</td>\n",
       "      <td>0.0</td>\n",
       "      <td>0.0</td>\n",
       "      <td>0.0</td>\n",
       "      <td>0.0</td>\n",
       "      <td>0.0</td>\n",
       "      <td>0.0</td>\n",
       "      <td>0.0</td>\n",
       "      <td>3</td>\n",
       "    </tr>\n",
       "    <tr>\n",
       "      <th>2706</th>\n",
       "      <td>0.0</td>\n",
       "      <td>0.0</td>\n",
       "      <td>0.0</td>\n",
       "      <td>0.0</td>\n",
       "      <td>0.0</td>\n",
       "      <td>0.0</td>\n",
       "      <td>0.0</td>\n",
       "      <td>0.0</td>\n",
       "      <td>0.0</td>\n",
       "      <td>0.0</td>\n",
       "      <td>...</td>\n",
       "      <td>0.0</td>\n",
       "      <td>0.0</td>\n",
       "      <td>0.0</td>\n",
       "      <td>0.0</td>\n",
       "      <td>0.0</td>\n",
       "      <td>0.0</td>\n",
       "      <td>0.0</td>\n",
       "      <td>0.0</td>\n",
       "      <td>0.0</td>\n",
       "      <td>3</td>\n",
       "    </tr>\n",
       "    <tr>\n",
       "      <th>2707</th>\n",
       "      <td>0.0</td>\n",
       "      <td>0.0</td>\n",
       "      <td>0.0</td>\n",
       "      <td>0.0</td>\n",
       "      <td>0.0</td>\n",
       "      <td>0.0</td>\n",
       "      <td>0.0</td>\n",
       "      <td>0.0</td>\n",
       "      <td>0.0</td>\n",
       "      <td>0.0</td>\n",
       "      <td>...</td>\n",
       "      <td>0.0</td>\n",
       "      <td>0.0</td>\n",
       "      <td>0.0</td>\n",
       "      <td>0.0</td>\n",
       "      <td>0.0</td>\n",
       "      <td>0.0</td>\n",
       "      <td>0.0</td>\n",
       "      <td>0.0</td>\n",
       "      <td>0.0</td>\n",
       "      <td>3</td>\n",
       "    </tr>\n",
       "  </tbody>\n",
       "</table>\n",
       "<p>2708 rows × 1434 columns</p>\n",
       "</div>"
      ],
      "text/plain": [
       "        0    1    2    3    4    5    6    7    8    9  ...  1424  1425  1426  \\\n",
       "0     0.0  0.0  0.0  0.0  0.0  0.0  0.0  0.0  0.0  0.0  ...   0.0   0.0   0.0   \n",
       "1     0.0  0.0  0.0  0.0  0.0  0.0  0.0  0.0  0.0  0.0  ...   0.0   0.0   0.0   \n",
       "2     0.0  0.0  0.0  0.0  0.0  0.0  0.0  0.0  0.0  0.0  ...   0.0   0.0   0.0   \n",
       "3     0.0  0.0  0.0  0.0  0.0  0.0  0.0  0.0  0.0  0.0  ...   0.0   0.0   0.0   \n",
       "4     0.0  0.0  0.0  1.0  0.0  0.0  0.0  0.0  0.0  0.0  ...   0.0   0.0   0.0   \n",
       "...   ...  ...  ...  ...  ...  ...  ...  ...  ...  ...  ...   ...   ...   ...   \n",
       "2703  0.0  0.0  0.0  0.0  0.0  1.0  0.0  0.0  0.0  0.0  ...   0.0   1.0   0.0   \n",
       "2704  0.0  0.0  1.0  0.0  0.0  0.0  0.0  0.0  0.0  0.0  ...   0.0   0.0   0.0   \n",
       "2705  0.0  0.0  0.0  0.0  0.0  0.0  0.0  0.0  0.0  0.0  ...   0.0   0.0   0.0   \n",
       "2706  0.0  0.0  0.0  0.0  0.0  0.0  0.0  0.0  0.0  0.0  ...   0.0   0.0   0.0   \n",
       "2707  0.0  0.0  0.0  0.0  0.0  0.0  0.0  0.0  0.0  0.0  ...   0.0   0.0   0.0   \n",
       "\n",
       "      1427  1428  1429  1430  1431  1432  label  \n",
       "0      0.0   0.0   0.0   0.0   0.0   0.0      3  \n",
       "1      0.0   0.0   0.0   0.0   0.0   0.0      4  \n",
       "2      0.0   0.0   0.0   0.0   0.0   0.0      4  \n",
       "3      0.0   0.0   0.0   0.0   0.0   0.0      0  \n",
       "4      0.0   0.0   0.0   0.0   0.0   0.0      3  \n",
       "...    ...   ...   ...   ...   ...   ...    ...  \n",
       "2703   0.0   0.0   0.0   0.0   0.0   0.0      3  \n",
       "2704   0.0   0.0   0.0   0.0   0.0   0.0      3  \n",
       "2705   0.0   0.0   0.0   0.0   0.0   0.0      3  \n",
       "2706   0.0   0.0   0.0   0.0   0.0   0.0      3  \n",
       "2707   0.0   0.0   0.0   0.0   0.0   0.0      3  \n",
       "\n",
       "[2708 rows x 1434 columns]"
      ]
     },
     "execution_count": 2,
     "metadata": {},
     "output_type": "execute_result"
    }
   ],
   "source": [
    "import pandas as pd\n",
    "\n",
    "# This is just to show the feature matrix and class vector (we need torch.Tensor type input --> data_cora.x)\n",
    "df_x = pd.DataFrame(data_cora.x.numpy()) # 1,433 columns\n",
    "df_x['label'] = pd.DataFrame(data_cora.y) # adding a label-column\n",
    "df_x"
   ]
  },
  {
   "cell_type": "code",
   "execution_count": 3,
   "id": "ec16c842-d6e6-49aa-81d5-7407645d7195",
   "metadata": {},
   "outputs": [],
   "source": [
    "import torch\n",
    "from torch.nn import Linear\n",
    "import torch.nn.functional as F"
   ]
  },
  {
   "cell_type": "code",
   "execution_count": 4,
   "id": "0e932d29-f64f-4ed5-8f02-7d55c9fad590",
   "metadata": {},
   "outputs": [
    {
     "data": {
      "text/plain": [
       "MLP(\n",
       "  (linear1): Linear(in_features=1433, out_features=16, bias=True)\n",
       "  (linear2): Linear(in_features=16, out_features=7, bias=True)\n",
       ")"
      ]
     },
     "execution_count": 4,
     "metadata": {},
     "output_type": "execute_result"
    }
   ],
   "source": [
    "class MLP(torch.nn.Module):\n",
    "    def __init__(self, dim_input, dim_hidden, dim_output):\n",
    "        super().__init__()\n",
    "        self.linear1 = Linear(dim_input, dim_hidden)\n",
    "        self.linear2 = Linear(dim_hidden, dim_output)\n",
    "\n",
    "    def forward(self, x):\n",
    "        x = self.linear1(x)\n",
    "        x = F.relu(x)\n",
    "        x = self.linear2(x)\n",
    "        return F.log_softmax(x, dim=1)\n",
    "\n",
    "model_cora = MLP(dataset_cora.num_features, 16, dataset_cora.num_classes)\n",
    "# device = torch.device('cuda' if torch.cuda.is_available() else 'cpu')\n",
    "# model = model.to(device)\n",
    "model_cora"
   ]
  },
  {
   "cell_type": "code",
   "execution_count": 5,
   "id": "6778d965-a6b3-40c3-9d78-9ffdf19f0162",
   "metadata": {},
   "outputs": [
    {
     "name": "stdout",
     "output_type": "stream",
     "text": [
      "torch.Size([1, 1433])\n",
      "tensor([[-1.9757, -1.9887, -2.0736, -1.8290, -1.9392, -1.9986, -1.8399]],\n",
      "       grad_fn=<LogSoftmaxBackward0>)\n",
      "torch.Size([1, 7])\n",
      "tensor([3])\n"
     ]
    }
   ],
   "source": [
    "input = data_cora.x[:1,:]\n",
    "print(input.shape)\n",
    "print(model_cora(input))\n",
    "print(model_cora(input).shape)\n",
    "print(model_cora(input).argmax(dim=1))"
   ]
  },
  {
   "cell_type": "code",
   "execution_count": 6,
   "id": "f6f64cb8-d859-4fe8-8b28-e78896700bbb",
   "metadata": {},
   "outputs": [],
   "source": [
    "# define a simple accuracy metric (not the best metric for multiclass classification) \n",
    "def accuracy(y_pred, y_true):\n",
    "    return torch.sum(y_pred == y_true) / len(y_true)\n",
    "    \n",
    "criterion = torch.nn.CrossEntropyLoss() # loss\n",
    "optimizer = torch.optim.Adam(model_cora.parameters(), lr=0.005, weight_decay=5e-4)\n",
    "num_epochs = 100"
   ]
  },
  {
   "cell_type": "code",
   "execution_count": 7,
   "id": "06675633-5d2b-4d15-9641-fecc6d0e122c",
   "metadata": {},
   "outputs": [
    {
     "name": "stdout",
     "output_type": "stream",
     "text": [
      "Epoch   0 | Train Loss: 1.948 | Train Acc: 13.57%| Val Loss: 1.93 | Val Acc: 28.00%\n",
      "Epoch  20 | Train Loss: 0.490 | Train Acc: 99.29%| Val Loss: 1.59 | Val Acc: 46.80%\n",
      "Epoch  40 | Train Loss: 0.080 | Train Acc: 100.00%| Val Loss: 1.40 | Val Acc: 53.40%\n",
      "Epoch  60 | Train Loss: 0.032 | Train Acc: 100.00%| Val Loss: 1.42 | Val Acc: 52.80%\n",
      "Epoch  80 | Train Loss: 0.020 | Train Acc: 100.00%| Val Loss: 1.42 | Val Acc: 52.60%\n",
      "Epoch 100 | Train Loss: 0.015 | Train Acc: 100.00%| Val Loss: 1.40 | Val Acc: 52.20%\n"
     ]
    }
   ],
   "source": [
    "# Train MLP model on Cora dataset\n",
    "model_cora.train()\n",
    "for epoch in range(num_epochs+1):\n",
    "    optimizer.zero_grad()\n",
    "    y_pred = model_cora(data_cora.x)\n",
    "    loss = criterion(y_pred[data_cora.train_mask], data_cora.y[data_cora.train_mask]) # loss = criterion(y_pred, y_true)\n",
    "    acc = accuracy(y_pred[data_cora.train_mask].argmax(dim=1), data_cora.y[data_cora.train_mask])\n",
    "    loss.backward()\n",
    "    optimizer.step()\n",
    "    if (epoch % 20) == 0:\n",
    "        val_loss = criterion(y_pred[data_cora.val_mask], data_cora.y[data_cora.val_mask])\n",
    "        val_acc = accuracy(y_pred[data_cora.val_mask].argmax(dim=1), data_cora.y[data_cora.val_mask])\n",
    "        print(f'Epoch {epoch:>3} | Train Loss: {loss:.3f} | Train Acc: {acc*100:>5.2f}%'\n",
    "              f'| Val Loss: {val_loss:.2f} | Val Acc: {val_acc*100:.2f}%')"
   ]
  },
  {
   "cell_type": "code",
   "execution_count": 8,
   "id": "f60f45ee-089c-4554-b9cd-84af0ed56376",
   "metadata": {},
   "outputs": [
    {
     "name": "stdout",
     "output_type": "stream",
     "text": [
      "\n",
      "MLP test accuracy for Cora dataset: 52.20%\n"
     ]
    }
   ],
   "source": [
    "# Test MLP model on Cora dataset    \n",
    "model_cora.eval()\n",
    "y_pred = model_cora(data_cora.x)\n",
    "acc = accuracy(y_pred[data_cora.test_mask].argmax(dim=1), data_cora.y[data_cora.test_mask])\n",
    "print(f'\\nMLP test accuracy for Cora dataset: {acc*100:.2f}%')"
   ]
  },
  {
   "cell_type": "markdown",
   "id": "2daa3415-02c1-4072-9290-eb5823a19d22",
   "metadata": {},
   "source": [
    "## Repeat the process for the Facebook Page-Page dataset"
   ]
  },
  {
   "cell_type": "code",
   "execution_count": 9,
   "id": "de019e45-c618-4057-a3e6-cf3fc060eabd",
   "metadata": {},
   "outputs": [
    {
     "data": {
      "text/plain": [
       "MLP(\n",
       "  (linear1): Linear(in_features=128, out_features=16, bias=True)\n",
       "  (linear2): Linear(in_features=16, out_features=4, bias=True)\n",
       ")"
      ]
     },
     "execution_count": 9,
     "metadata": {},
     "output_type": "execute_result"
    }
   ],
   "source": [
    "model_fb = MLP(dataset_facebook.num_features, 16, dataset_facebook.num_classes)\n",
    "model_fb"
   ]
  },
  {
   "cell_type": "code",
   "execution_count": 10,
   "id": "12bd314c-6285-4e85-869f-f03391bdd7ed",
   "metadata": {},
   "outputs": [
    {
     "name": "stdout",
     "output_type": "stream",
     "text": [
      "Epoch   0 | Train Loss: 1.455 | Train Acc: 17.34%| Val Loss: 1.46 | Val Acc: 18.46%\n",
      "Epoch  20 | Train Loss: 0.836 | Train Acc: 67.44%| Val Loss: 0.84 | Val Acc: 65.88%\n",
      "Epoch  40 | Train Loss: 0.640 | Train Acc: 75.01%| Val Loss: 0.66 | Val Acc: 73.94%\n",
      "Epoch  60 | Train Loss: 0.588 | Train Acc: 76.84%| Val Loss: 0.62 | Val Acc: 75.84%\n",
      "Epoch  80 | Train Loss: 0.566 | Train Acc: 77.49%| Val Loss: 0.60 | Val Acc: 76.19%\n",
      "Epoch 100 | Train Loss: 0.553 | Train Acc: 77.93%| Val Loss: 0.60 | Val Acc: 76.24%\n"
     ]
    }
   ],
   "source": [
    "# Train MLP model on Facebook Page-Page dataset\n",
    "optimizer = torch.optim.Adam(model_fb.parameters(), lr=0.005, weight_decay=5e-4)\n",
    "model_fb.train()\n",
    "for epoch in range(num_epochs+1):\n",
    "    optimizer.zero_grad()\n",
    "    y_pred = model_fb(data_facebook.x)\n",
    "    train_loss = criterion(y_pred[data_facebook.train_mask], data_facebook.y[data_facebook.train_mask])\n",
    "    train_acc = accuracy(y_pred[data_facebook.train_mask].argmax(dim=1), data_facebook.y[data_facebook.train_mask])\n",
    "    train_loss.backward()\n",
    "    optimizer.step()\n",
    "    if (epoch % 20) == 0:\n",
    "        val_loss = criterion(y_pred[data_facebook.val_mask], data_facebook.y[data_facebook.val_mask])\n",
    "        val_acc = accuracy(y_pred[data_facebook.val_mask].argmax(dim=1), data_facebook.y[data_facebook.val_mask])\n",
    "        print(f'Epoch {epoch:>3} | Train Loss: {train_loss:.3f} | Train Acc: {train_acc*100:>5.2f}%'\n",
    "              f'| Val Loss: {val_loss:.2f} | Val Acc: {val_acc*100:.2f}%')"
   ]
  },
  {
   "cell_type": "code",
   "execution_count": 11,
   "id": "f45f96d6-7da9-4d67-89a5-6a4b928a0de0",
   "metadata": {},
   "outputs": [
    {
     "name": "stdout",
     "output_type": "stream",
     "text": [
      "\n",
      "MLP test accuracy for Facebook Page-Page dataset: 75.05%\n"
     ]
    }
   ],
   "source": [
    "# Test MLP model on Facebook Page-Page dataset   \n",
    "model_fb.eval()\n",
    "y_pred = model_fb(data_facebook.x)\n",
    "test_acc = accuracy(y_pred[data_facebook.test_mask].argmax(dim=1), data_facebook.y[data_facebook.test_mask])\n",
    "print(f'\\nMLP test accuracy for Facebook Page-Page dataset: {test_acc*100:.2f}%')"
   ]
  },
  {
   "cell_type": "markdown",
   "id": "a7895901-2a4a-49ee-9e8e-5cf0abd46ac1",
   "metadata": {},
   "source": [
    "## Classifying nodes with vanilla graph neural networks"
   ]
  },
  {
   "cell_type": "code",
   "execution_count": 12,
   "id": "1fdbf100-3e3b-4e36-bd88-51b245f7d7fa",
   "metadata": {},
   "outputs": [],
   "source": [
    "# This is Graph Linear Layer, similar to GCN\n",
    "class VanillaGNNLayer(torch.nn.Module):\n",
    "    def __init__(self, dim_in, dim_out):\n",
    "        super().__init__()\n",
    "        self.linear = Linear(dim_in, dim_out, bias=False)\n",
    "\n",
    "    def forward(self, x, adjacency):\n",
    "        x = self.linear(x)\n",
    "        x = torch.sparse.mm(adjacency, x)\n",
    "        return x"
   ]
  },
  {
   "cell_type": "code",
   "execution_count": 13,
   "id": "fbd68cf3-de43-4ac6-8fce-5d73636f1374",
   "metadata": {},
   "outputs": [],
   "source": [
    "class VanillaGNN(torch.nn.Module):\n",
    "    def __init__(self, dim_in, dim_h, dim_out):\n",
    "        super().__init__()\n",
    "        self.gnn1 = VanillaGNNLayer(dim_in, dim_h) # as similar to nn.Linear(dim_in, dim_out)\n",
    "        self.gnn2 = VanillaGNNLayer(dim_h, dim_out)\n",
    "    \n",
    "    def forward(self, x, adjacency):\n",
    "        h = self.gnn1(x, adjacency)\n",
    "        h = torch.relu(h)\n",
    "        h = self.gnn2(h, adjacency)\n",
    "        return F.log_softmax(h, dim=1)"
   ]
  },
  {
   "cell_type": "markdown",
   "id": "56c21f8f-ffb7-4eb9-a252-85c903aa135d",
   "metadata": {},
   "source": [
    "### Vanilla GNN for Cora dataset"
   ]
  },
  {
   "cell_type": "code",
   "execution_count": 14,
   "id": "97fa4060-ea19-421c-9998-ceaec42990de",
   "metadata": {},
   "outputs": [
    {
     "name": "stdout",
     "output_type": "stream",
     "text": [
      "VanillaGNN(\n",
      "  (gnn1): VanillaGNNLayer(\n",
      "    (linear): Linear(in_features=1433, out_features=16, bias=False)\n",
      "  )\n",
      "  (gnn2): VanillaGNNLayer(\n",
      "    (linear): Linear(in_features=16, out_features=7, bias=False)\n",
      "  )\n",
      ")\n"
     ]
    }
   ],
   "source": [
    "# Initialize Vanilla GNN for Cora dataset\n",
    "vanilla_gnn = VanillaGNN(dataset_cora.num_features, 16, dataset_cora.num_classes)\n",
    "print(vanilla_gnn)"
   ]
  },
  {
   "cell_type": "code",
   "execution_count": 15,
   "id": "3ba0db78-470f-4773-98fc-c58bfa034ef1",
   "metadata": {},
   "outputs": [
    {
     "data": {
      "text/plain": [
       "tensor([[1., 0., 0.,  ..., 0., 0., 0.],\n",
       "        [0., 1., 1.,  ..., 0., 0., 0.],\n",
       "        [0., 1., 1.,  ..., 0., 0., 0.],\n",
       "        ...,\n",
       "        [0., 0., 0.,  ..., 1., 0., 0.],\n",
       "        [0., 0., 0.,  ..., 0., 1., 1.],\n",
       "        [0., 0., 0.,  ..., 0., 1., 1.]])"
      ]
     },
     "execution_count": 15,
     "metadata": {},
     "output_type": "execute_result"
    }
   ],
   "source": [
    "from torch_geometric.utils import to_dense_adj\n",
    "\n",
    "adjacency = to_dense_adj(data_cora.edge_index)[0]\n",
    "adjacency += torch.eye(len(adjacency))\n",
    "adjacency"
   ]
  },
  {
   "cell_type": "code",
   "execution_count": 16,
   "id": "6aeafa1b-1834-404c-a4ec-42ff81dbdb53",
   "metadata": {},
   "outputs": [
    {
     "name": "stdout",
     "output_type": "stream",
     "text": [
      "Epoch   0 | Train Loss: 2.373 | Train Acc: 24.29%| Val Loss: 2.12 | Val Acc: 21.60%\n",
      "Epoch  20 | Train Loss: 0.128 | Train Acc: 100.00%| Val Loss: 1.43 | Val Acc: 71.20%\n",
      "Epoch  40 | Train Loss: 0.020 | Train Acc: 100.00%| Val Loss: 2.00 | Val Acc: 73.60%\n",
      "Epoch  60 | Train Loss: 0.007 | Train Acc: 100.00%| Val Loss: 2.19 | Val Acc: 73.80%\n",
      "Epoch  80 | Train Loss: 0.004 | Train Acc: 100.00%| Val Loss: 2.25 | Val Acc: 73.60%\n",
      "Epoch 100 | Train Loss: 0.003 | Train Acc: 100.00%| Val Loss: 2.27 | Val Acc: 74.00%\n"
     ]
    }
   ],
   "source": [
    "# Train VanillaGNN model on Cora dataset\n",
    "criterion = torch.nn.CrossEntropyLoss()\n",
    "optimizer = torch.optim.Adam(vanilla_gnn.parameters(), lr=0.01, weight_decay=5e-4)\n",
    "\n",
    "vanilla_gnn.train()\n",
    "for epoch in range(num_epochs+1):\n",
    "    optimizer.zero_grad()\n",
    "    y_pred = vanilla_gnn(data_cora.x, adjacency)\n",
    "    train_loss = criterion(y_pred[data_cora.train_mask], data_cora.y[data_cora.train_mask])\n",
    "    train_acc = accuracy(y_pred[data_cora.train_mask].argmax(dim=1), data_cora.y[data_cora.train_mask])\n",
    "    train_loss.backward()\n",
    "    optimizer.step()\n",
    "    if (epoch % 20) == 0:\n",
    "        val_loss = criterion(y_pred[data_cora.val_mask], data_cora.y[data_cora.val_mask])\n",
    "        val_acc = accuracy(y_pred[data_cora.val_mask].argmax(dim=1), data_cora.y[data_cora.val_mask])\n",
    "        print(f'Epoch {epoch:>3} | Train Loss: {train_loss:.3f} | Train Acc: {train_acc*100:>5.2f}%'\n",
    "              f'| Val Loss: {val_loss:.2f} | Val Acc: {val_acc*100:.2f}%')"
   ]
  },
  {
   "cell_type": "code",
   "execution_count": 17,
   "id": "e7d6d7a9-21c4-43d0-bfdf-844f2b316d7d",
   "metadata": {},
   "outputs": [
    {
     "name": "stdout",
     "output_type": "stream",
     "text": [
      "\n",
      "Vanilla GNN test accuracy for Cora dataset: 75.10%\n"
     ]
    }
   ],
   "source": [
    "# Test VanillaGNN model on Cora dataset\n",
    "vanilla_gnn.eval()\n",
    "y_pred = vanilla_gnn(data_cora.x, adjacency)\n",
    "test_acc = accuracy(y_pred[data_cora.test_mask].argmax(dim=1), data_cora.y[data_cora.test_mask])\n",
    "print(f'\\nVanilla GNN test accuracy for Cora dataset: {test_acc*100:.2f}%')"
   ]
  },
  {
   "cell_type": "markdown",
   "id": "9c954c4d-9954-4bab-8d74-719bc9153f3b",
   "metadata": {},
   "source": [
    "### Vanilla GNN for Facebook Page-Page dataset"
   ]
  },
  {
   "cell_type": "code",
   "execution_count": 18,
   "id": "6cec25cd-40d8-4208-84f8-5b81a77a8161",
   "metadata": {},
   "outputs": [
    {
     "name": "stdout",
     "output_type": "stream",
     "text": [
      "VanillaGNN(\n",
      "  (gnn1): VanillaGNNLayer(\n",
      "    (linear): Linear(in_features=128, out_features=16, bias=False)\n",
      "  )\n",
      "  (gnn2): VanillaGNNLayer(\n",
      "    (linear): Linear(in_features=16, out_features=4, bias=False)\n",
      "  )\n",
      ")\n"
     ]
    }
   ],
   "source": [
    "# Initialize Vanilla GNN for Facebook dataset\n",
    "vanilla_gnn = VanillaGNN(dataset_facebook.num_features, 16, dataset_facebook.num_classes)\n",
    "print(vanilla_gnn)"
   ]
  },
  {
   "cell_type": "code",
   "execution_count": 19,
   "id": "39180e84-c138-4ed3-996e-27e8785f728e",
   "metadata": {},
   "outputs": [
    {
     "data": {
      "text/plain": [
       "tensor([[1., 0., 0.,  ..., 0., 0., 0.],\n",
       "        [0., 1., 0.,  ..., 0., 0., 0.],\n",
       "        [0., 0., 1.,  ..., 0., 0., 0.],\n",
       "        ...,\n",
       "        [0., 0., 0.,  ..., 1., 0., 0.],\n",
       "        [0., 0., 0.,  ..., 0., 1., 0.],\n",
       "        [0., 0., 0.,  ..., 0., 0., 1.]])"
      ]
     },
     "execution_count": 19,
     "metadata": {},
     "output_type": "execute_result"
    }
   ],
   "source": [
    "adjacency = to_dense_adj(data_facebook.edge_index)[0]\n",
    "adjacency += torch.eye(len(adjacency))\n",
    "adjacency"
   ]
  },
  {
   "cell_type": "code",
   "execution_count": 20,
   "id": "f982dff9-bc49-4e70-a57a-7a5cf98beb78",
   "metadata": {},
   "outputs": [
    {
     "name": "stdout",
     "output_type": "stream",
     "text": [
      "Epoch   0 | Train Loss: 64.449 | Train Acc: 32.49%| Val Loss: 63.00 | Val Acc: 31.77%\n",
      "Epoch  20 | Train Loss: 6.214 | Train Acc: 77.75%| Val Loss: 3.97 | Val Acc: 78.94%\n",
      "Epoch  40 | Train Loss: 2.271 | Train Acc: 82.41%| Val Loss: 1.56 | Val Acc: 83.19%\n",
      "Epoch  60 | Train Loss: 1.334 | Train Acc: 83.00%| Val Loss: 0.97 | Val Acc: 82.44%\n",
      "Epoch  80 | Train Loss: 0.874 | Train Acc: 83.41%| Val Loss: 0.71 | Val Acc: 83.59%\n",
      "Epoch 100 | Train Loss: 0.699 | Train Acc: 83.73%| Val Loss: 0.61 | Val Acc: 84.14%\n"
     ]
    }
   ],
   "source": [
    "# Train VanillaGNN model on Facebook Page-Page dataset\n",
    "criterion = torch.nn.CrossEntropyLoss()\n",
    "optimizer = torch.optim.Adam(vanilla_gnn.parameters(), lr=0.01, weight_decay=5e-4)\n",
    "\n",
    "vanilla_gnn.train()\n",
    "for epoch in range(num_epochs+1):\n",
    "    optimizer.zero_grad()\n",
    "    y_pred = vanilla_gnn(data_facebook.x, adjacency)\n",
    "    train_loss = criterion(y_pred[data_facebook.train_mask], data_facebook.y[data_facebook.train_mask])\n",
    "    train_acc = accuracy(y_pred[data_facebook.train_mask].argmax(dim=1), data_facebook.y[data_facebook.train_mask])\n",
    "    train_loss.backward()\n",
    "    optimizer.step()\n",
    "    if (epoch % 20) == 0:\n",
    "        val_loss = criterion(y_pred[data_facebook.val_mask], data_facebook.y[data_facebook.val_mask])\n",
    "        val_acc = accuracy(y_pred[data_facebook.val_mask].argmax(dim=1), data_facebook.y[data_facebook.val_mask])\n",
    "        print(f'Epoch {epoch:>3} | Train Loss: {train_loss:.3f} | Train Acc: {train_acc*100:>5.2f}%'\n",
    "              f'| Val Loss: {val_loss:.2f} | Val Acc: {val_acc*100:.2f}%')"
   ]
  },
  {
   "cell_type": "code",
   "execution_count": 21,
   "id": "132081b4-cf89-4a4b-9030-5234ca379fc5",
   "metadata": {},
   "outputs": [
    {
     "name": "stdout",
     "output_type": "stream",
     "text": [
      "\n",
      "Vanilla GNN test accuracy for Facebook Page-Page dataset: 83.27%\n"
     ]
    }
   ],
   "source": [
    "# Test VanillaGNN model on Facebook Page-Page dataset\n",
    "vanilla_gnn.eval()\n",
    "y_pred = vanilla_gnn(data_facebook.x, adjacency)\n",
    "test_acc = accuracy(y_pred[data_facebook.test_mask].argmax(dim=1), data_facebook.y[data_facebook.test_mask])\n",
    "print(f'\\nVanilla GNN test accuracy for Facebook Page-Page dataset: {test_acc*100:.2f}%')"
   ]
  },
  {
   "cell_type": "markdown",
   "id": "6af57e93-5bb5-41d5-9d82-60d0a6d893ee",
   "metadata": {},
   "source": [
    "## Graph Convolutional Networks (GCN)\n",
    "\n",
    "If we look at our Graph Linear layer, we don’t take into account the difference in the number of neighbors. Our layer consists of a simple sum without any normalization coefficient. Imagine that node 1 has 1,000 neighbors and node 2 only has 1: the embedding $ℎ_{1}$ will have much larger values than $ℎ_{2}$. This becomes an issue if we want to compare these embeddings. How are we supposed to make meaningful comparisons when their values are so vastly different? Fortunately, there is a simple solution: dividing the embedding by the number of neighbors.\n",
    "\n",
    "Kipf and Welling noticed that features from nodes with a lot of neighbors spread very easily, unlike features from more isolated nodes. In the original GCN paper, the authors proposed a hybrid normalization to counterbalance this effect. In practice, they assign higher weights to nodes with few neighbors using the following formula:\n",
    "\n",
    "$H=\\tilde{D}^{-\\frac{1}{2}}\\tilde{A}^{T}\\tilde{D}^{-\\frac{1}{2}}XW^{T}$"
   ]
  },
  {
   "cell_type": "code",
   "execution_count": 22,
   "id": "9ef90767-ad17-480c-9b3d-28394b82a481",
   "metadata": {},
   "outputs": [],
   "source": [
    "import matplotlib.pyplot as plt\n",
    "from collections import Counter\n",
    "from torch_geometric.utils import degree"
   ]
  },
  {
   "cell_type": "code",
   "execution_count": 23,
   "id": "25af4a47-8cf3-4deb-a718-5d1a91e5868b",
   "metadata": {},
   "outputs": [
    {
     "data": {
      "text/plain": [
       "array([3., 3., 5., ..., 1., 4., 4.], dtype=float32)"
      ]
     },
     "execution_count": 23,
     "metadata": {},
     "output_type": "execute_result"
    }
   ],
   "source": [
    "degrees = degree(data_cora.edge_index[0]).numpy()\n",
    "degrees # degree per node, i.e., 2708"
   ]
  },
  {
   "cell_type": "code",
   "execution_count": 24,
   "id": "bbaf68c9-4aa3-4e24-b771-5da94bcf3e49",
   "metadata": {},
   "outputs": [
    {
     "data": {
      "text/plain": [
       "Counter({2.0: 583,\n",
       "         3.0: 553,\n",
       "         1.0: 485,\n",
       "         4.0: 389,\n",
       "         5.0: 281,\n",
       "         6.0: 131,\n",
       "         7.0: 82,\n",
       "         8.0: 57,\n",
       "         10.0: 26,\n",
       "         9.0: 25,\n",
       "         12.0: 18,\n",
       "         11.0: 14,\n",
       "         17.0: 8,\n",
       "         16.0: 7,\n",
       "         14.0: 6,\n",
       "         15.0: 6,\n",
       "         19.0: 5,\n",
       "         13.0: 5,\n",
       "         21.0: 3,\n",
       "         18.0: 3,\n",
       "         23.0: 3,\n",
       "         32.0: 2,\n",
       "         30.0: 2,\n",
       "         36.0: 1,\n",
       "         78.0: 1,\n",
       "         33.0: 1,\n",
       "         29.0: 1,\n",
       "         34.0: 1,\n",
       "         26.0: 1,\n",
       "         168.0: 1,\n",
       "         22.0: 1,\n",
       "         42.0: 1,\n",
       "         74.0: 1,\n",
       "         44.0: 1,\n",
       "         31.0: 1,\n",
       "         65.0: 1,\n",
       "         40.0: 1})"
      ]
     },
     "execution_count": 24,
     "metadata": {},
     "output_type": "execute_result"
    }
   ],
   "source": [
    "numbers = Counter(degrees) # counts the frequency of degrees (histogram) as a dictionary\n",
    "numbers"
   ]
  },
  {
   "cell_type": "code",
   "execution_count": 25,
   "id": "cff3eafe-50ec-4fe1-a440-245da7c14e62",
   "metadata": {},
   "outputs": [
    {
     "data": {
      "image/png": "[encoded data removed]",
      "text/plain": [
       "<Figure size 640x480 with 1 Axes>"
      ]
     },
     "metadata": {},
     "output_type": "display_data"
    }
   ],
   "source": [
    "fig, ax = plt.subplots()\n",
    "ax.set_xlabel('Node degree')\n",
    "ax.set_ylabel('Number of nodes')\n",
    "plt.bar(numbers.keys(), numbers.values())\n",
    "plt.grid()"
   ]
  },
  {
   "cell_type": "markdown",
   "id": "f2767e62-543e-43b7-912d-af587e460e60",
   "metadata": {},
   "source": [
    "This distribution looks exponential with a heavy tail: it ranges from 1 neighbor (485 nodes) to 168\n",
    "neighbors (1 node)! This is exactly the kind of dataset where we want a normalization process to\n",
    "consider this disbalance."
   ]
  },
  {
   "cell_type": "code",
   "execution_count": 26,
   "id": "b894d61d-36d6-4906-b4dc-fe276cd10b8d",
   "metadata": {},
   "outputs": [
    {
     "data": {
      "text/plain": [
       "Counter({1.0: 2658,\n",
       "         2.0: 2307,\n",
       "         3.0: 1843,\n",
       "         4.0: 1516,\n",
       "         5.0: 1359,\n",
       "         6.0: 1114,\n",
       "         7.0: 974,\n",
       "         8.0: 811,\n",
       "         9.0: 731,\n",
       "         10.0: 618,\n",
       "         11.0: 555,\n",
       "         12.0: 494,\n",
       "         13.0: 452,\n",
       "         14.0: 391,\n",
       "         15.0: 380,\n",
       "         17.0: 348,\n",
       "         16.0: 333,\n",
       "         18.0: 316,\n",
       "         19.0: 265,\n",
       "         20.0: 264,\n",
       "         21.0: 233,\n",
       "         22.0: 227,\n",
       "         23.0: 213,\n",
       "         25.0: 200,\n",
       "         24.0: 193,\n",
       "         26.0: 192,\n",
       "         29.0: 151,\n",
       "         27.0: 149,\n",
       "         28.0: 145,\n",
       "         31.0: 132,\n",
       "         33.0: 130,\n",
       "         30.0: 127,\n",
       "         32.0: 112,\n",
       "         35.0: 107,\n",
       "         36.0: 107,\n",
       "         34.0: 102,\n",
       "         37.0: 89,\n",
       "         38.0: 85,\n",
       "         43.0: 76,\n",
       "         40.0: 74,\n",
       "         42.0: 70,\n",
       "         39.0: 70,\n",
       "         44.0: 69,\n",
       "         41.0: 67,\n",
       "         45.0: 59,\n",
       "         51.0: 54,\n",
       "         53.0: 53,\n",
       "         48.0: 52,\n",
       "         47.0: 51,\n",
       "         46.0: 49,\n",
       "         50.0: 48,\n",
       "         49.0: 45,\n",
       "         62.0: 41,\n",
       "         59.0: 38,\n",
       "         60.0: 37,\n",
       "         57.0: 37,\n",
       "         55.0: 36,\n",
       "         56.0: 36,\n",
       "         52.0: 35,\n",
       "         54.0: 34,\n",
       "         61.0: 33,\n",
       "         69.0: 32,\n",
       "         67.0: 29,\n",
       "         58.0: 27,\n",
       "         64.0: 27,\n",
       "         68.0: 25,\n",
       "         65.0: 22,\n",
       "         66.0: 21,\n",
       "         71.0: 20,\n",
       "         70.0: 19,\n",
       "         73.0: 19,\n",
       "         63.0: 19,\n",
       "         76.0: 19,\n",
       "         74.0: 19,\n",
       "         83.0: 18,\n",
       "         75.0: 16,\n",
       "         72.0: 15,\n",
       "         94.0: 13,\n",
       "         78.0: 13,\n",
       "         77.0: 13,\n",
       "         87.0: 13,\n",
       "         90.0: 13,\n",
       "         99.0: 13,\n",
       "         81.0: 12,\n",
       "         88.0: 12,\n",
       "         86.0: 12,\n",
       "         80.0: 11,\n",
       "         105.0: 11,\n",
       "         112.0: 11,\n",
       "         79.0: 10,\n",
       "         89.0: 10,\n",
       "         104.0: 10,\n",
       "         92.0: 9,\n",
       "         84.0: 9,\n",
       "         93.0: 8,\n",
       "         97.0: 8,\n",
       "         106.0: 8,\n",
       "         82.0: 8,\n",
       "         85.0: 8,\n",
       "         101.0: 8,\n",
       "         96.0: 7,\n",
       "         121.0: 7,\n",
       "         107.0: 7,\n",
       "         116.0: 7,\n",
       "         91.0: 7,\n",
       "         120.0: 7,\n",
       "         114.0: 6,\n",
       "         117.0: 5,\n",
       "         102.0: 5,\n",
       "         122.0: 5,\n",
       "         108.0: 5,\n",
       "         100.0: 5,\n",
       "         138.0: 5,\n",
       "         109.0: 5,\n",
       "         142.0: 4,\n",
       "         110.0: 4,\n",
       "         115.0: 4,\n",
       "         141.0: 4,\n",
       "         95.0: 4,\n",
       "         125.0: 4,\n",
       "         113.0: 4,\n",
       "         145.0: 4,\n",
       "         148.0: 4,\n",
       "         134.0: 3,\n",
       "         133.0: 3,\n",
       "         111.0: 3,\n",
       "         177.0: 3,\n",
       "         135.0: 3,\n",
       "         98.0: 3,\n",
       "         127.0: 3,\n",
       "         118.0: 3,\n",
       "         201.0: 3,\n",
       "         132.0: 3,\n",
       "         144.0: 3,\n",
       "         156.0: 3,\n",
       "         103.0: 3,\n",
       "         140.0: 3,\n",
       "         129.0: 3,\n",
       "         155.0: 3,\n",
       "         222.0: 3,\n",
       "         146.0: 3,\n",
       "         123.0: 3,\n",
       "         143.0: 3,\n",
       "         131.0: 3,\n",
       "         119.0: 3,\n",
       "         174.0: 2,\n",
       "         229.0: 2,\n",
       "         226.0: 2,\n",
       "         139.0: 2,\n",
       "         275.0: 2,\n",
       "         126.0: 2,\n",
       "         181.0: 2,\n",
       "         214.0: 2,\n",
       "         193.0: 2,\n",
       "         182.0: 2,\n",
       "         257.0: 2,\n",
       "         124.0: 2,\n",
       "         199.0: 2,\n",
       "         330.0: 2,\n",
       "         183.0: 2,\n",
       "         147.0: 2,\n",
       "         167.0: 2,\n",
       "         288.0: 2,\n",
       "         236.0: 2,\n",
       "         188.0: 2,\n",
       "         151.0: 1,\n",
       "         244.0: 1,\n",
       "         380.0: 1,\n",
       "         153.0: 1,\n",
       "         233.0: 1,\n",
       "         150.0: 1,\n",
       "         504.0: 1,\n",
       "         260.0: 1,\n",
       "         408.0: 1,\n",
       "         203.0: 1,\n",
       "         137.0: 1,\n",
       "         166.0: 1,\n",
       "         216.0: 1,\n",
       "         240.0: 1,\n",
       "         333.0: 1,\n",
       "         149.0: 1,\n",
       "         196.0: 1,\n",
       "         225.0: 1,\n",
       "         162.0: 1,\n",
       "         178.0: 1,\n",
       "         387.0: 1,\n",
       "         169.0: 1,\n",
       "         351.0: 1,\n",
       "         136.0: 1,\n",
       "         171.0: 1,\n",
       "         191.0: 1,\n",
       "         290.0: 1,\n",
       "         338.0: 1,\n",
       "         364.0: 1,\n",
       "         168.0: 1,\n",
       "         212.0: 1,\n",
       "         468.0: 1,\n",
       "         370.0: 1,\n",
       "         341.0: 1,\n",
       "         158.0: 1,\n",
       "         256.0: 1,\n",
       "         328.0: 1,\n",
       "         194.0: 1,\n",
       "         172.0: 1,\n",
       "         157.0: 1,\n",
       "         234.0: 1,\n",
       "         650.0: 1,\n",
       "         326.0: 1,\n",
       "         375.0: 1,\n",
       "         298.0: 1,\n",
       "         163.0: 1,\n",
       "         266.0: 1,\n",
       "         709.0: 1,\n",
       "         237.0: 1,\n",
       "         220.0: 1,\n",
       "         170.0: 1,\n",
       "         218.0: 1,\n",
       "         152.0: 1,\n",
       "         217.0: 1,\n",
       "         296.0: 1,\n",
       "         280.0: 1,\n",
       "         448.0: 1,\n",
       "         185.0: 1,\n",
       "         678.0: 1,\n",
       "         189.0: 1,\n",
       "         128.0: 1,\n",
       "         241.0: 1,\n",
       "         320.0: 1,\n",
       "         417.0: 1,\n",
       "         224.0: 1,\n",
       "         195.0: 1,\n",
       "         659.0: 1,\n",
       "         205.0: 1})"
      ]
     },
     "execution_count": 26,
     "metadata": {},
     "output_type": "execute_result"
    }
   ],
   "source": [
    "# Same process is repeated for the Facebook Page-Page dataset\n",
    "degrees = degree(data_facebook.edge_index[0]).numpy() # degree per node, i.e., 22470\n",
    "numbers = Counter(degrees)\n",
    "numbers"
   ]
  },
  {
   "cell_type": "code",
   "execution_count": 27,
   "id": "72cded7d-a68e-4ed1-a537-883e79dc0a08",
   "metadata": {},
   "outputs": [
    {
     "data": {
      "text/plain": [
       "(1, 709)"
      ]
     },
     "execution_count": 27,
     "metadata": {},
     "output_type": "execute_result"
    }
   ],
   "source": [
    "int(min(numbers)), int(max(numbers))"
   ]
  },
  {
   "cell_type": "code",
   "execution_count": 28,
   "id": "d37cb6c6-fd8b-44b4-9972-e79629f11bed",
   "metadata": {},
   "outputs": [
    {
     "data": {
      "image/png": "[encoded data removed]",
      "text/plain": [
       "<Figure size 640x480 with 1 Axes>"
      ]
     },
     "metadata": {},
     "output_type": "display_data"
    }
   ],
   "source": [
    "fig, ax = plt.subplots()\n",
    "ax.set_xlabel('Node degree')\n",
    "ax.set_ylabel('Number of nodes')\n",
    "plt.bar(numbers.keys(), numbers.values())\n",
    "plt.grid()"
   ]
  },
  {
   "cell_type": "markdown",
   "id": "812faed3-2fbf-41d8-be25-c12131769c76",
   "metadata": {},
   "source": [
    "This distribution of node degrees looks even more skewed, with a number of neighbors that ranges\n",
    "from 1 to 709. For the same reason, the Facebook Page-Page dataset is also a good case in which to\n",
    "apply a GCN."
   ]
  },
  {
   "cell_type": "code",
   "execution_count": 29,
   "id": "cb36fdbc-8cdd-4121-a4aa-c356d05080d4",
   "metadata": {},
   "outputs": [],
   "source": [
    "import torch\n",
    "import torch.nn.functional as F\n",
    "from torch_geometric.nn import GCNConv"
   ]
  },
  {
   "cell_type": "code",
   "execution_count": 30,
   "id": "8ffdcf21-1fa9-4900-b16b-127f53f90af2",
   "metadata": {},
   "outputs": [],
   "source": [
    "class GCN(torch.nn.Module):\n",
    "    \"\"\"Graph Convolutional Network\"\"\"\n",
    "    def __init__(self, dim_in, dim_h, dim_out):\n",
    "        super().__init__()\n",
    "        self.gcn1 = GCNConv(dim_in, dim_h)\n",
    "        self.gcn2 = GCNConv(dim_h, dim_out)\n",
    "\n",
    "    def forward(self, x, edge_index):\n",
    "        h = self.gcn1(x, edge_index)\n",
    "        h = torch.relu(h)\n",
    "        h = self.gcn2(h, edge_index)\n",
    "        return F.log_softmax(h, dim=1)"
   ]
  },
  {
   "cell_type": "markdown",
   "id": "cc53f90e-f704-4d63-96aa-76f1bebad8ec",
   "metadata": {},
   "source": [
    "### GCN for Cora dataset"
   ]
  },
  {
   "cell_type": "code",
   "execution_count": 31,
   "id": "c4a81e3c-a32f-4532-ac38-ad3104d8b930",
   "metadata": {},
   "outputs": [
    {
     "data": {
      "text/plain": [
       "GCN(\n",
       "  (gcn1): GCNConv(1433, 16)\n",
       "  (gcn2): GCNConv(16, 7)\n",
       ")"
      ]
     },
     "execution_count": 31,
     "metadata": {},
     "output_type": "execute_result"
    }
   ],
   "source": [
    "gcn_cora = GCN(dataset_cora.num_features, 16, dataset_cora.num_classes)\n",
    "gcn_cora"
   ]
  },
  {
   "cell_type": "code",
   "execution_count": 32,
   "id": "31fa5e3e-a25c-43b0-97fa-3173f89c7612",
   "metadata": {},
   "outputs": [],
   "source": [
    "def accuracy(y_pred, y_true):\n",
    "    return torch.sum(y_pred == y_true) / len(y_true)\n",
    "    \n",
    "criterion = torch.nn.CrossEntropyLoss() # loss\n",
    "optimizer = torch.optim.Adam(gcn_cora.parameters(), lr=0.005, weight_decay=5e-4)\n",
    "num_epochs = 100"
   ]
  },
  {
   "cell_type": "code",
   "execution_count": 33,
   "id": "13aec0b3-a471-498d-8095-25542b2dc7d7",
   "metadata": {},
   "outputs": [
    {
     "name": "stdout",
     "output_type": "stream",
     "text": [
      "Epoch   0 | Train Loss: 1.938 | Train Acc: 15.00%| Val Loss: 1.94 | Val Acc: 15.00%\n",
      "Epoch  20 | Train Loss: 0.605 | Train Acc: 90.00%| Val Loss: 1.16 | Val Acc: 64.00%\n",
      "Epoch  40 | Train Loss: 0.134 | Train Acc: 100.00%| Val Loss: 0.85 | Val Acc: 75.20%\n",
      "Epoch  60 | Train Loss: 0.045 | Train Acc: 100.00%| Val Loss: 0.77 | Val Acc: 76.00%\n",
      "Epoch  80 | Train Loss: 0.029 | Train Acc: 100.00%| Val Loss: 0.74 | Val Acc: 77.00%\n",
      "Epoch 100 | Train Loss: 0.025 | Train Acc: 100.00%| Val Loss: 0.73 | Val Acc: 77.00%\n"
     ]
    }
   ],
   "source": [
    "# Train GCN model on Cora dataset\n",
    "gcn_cora.train()\n",
    "for epoch in range(num_epochs+1):\n",
    "    optimizer.zero_grad()\n",
    "    y_pred = gcn_cora(data_cora.x, data_cora.edge_index)\n",
    "    loss = criterion(y_pred[data_cora.train_mask], data_cora.y[data_cora.train_mask]) # loss = criterion(y_pred, y_true)\n",
    "    acc = accuracy(y_pred[data_cora.train_mask].argmax(dim=1), data_cora.y[data_cora.train_mask])\n",
    "    loss.backward()\n",
    "    optimizer.step()\n",
    "    if (epoch % 20) == 0:\n",
    "        val_loss = criterion(y_pred[data_cora.val_mask], data_cora.y[data_cora.val_mask])\n",
    "        val_acc = accuracy(y_pred[data_cora.val_mask].argmax(dim=1), data_cora.y[data_cora.val_mask])\n",
    "        print(f'Epoch {epoch:>3} | Train Loss: {loss:.3f} | Train Acc: {acc*100:>5.2f}%'\n",
    "              f'| Val Loss: {val_loss:.2f} | Val Acc: {val_acc*100:.2f}%')"
   ]
  },
  {
   "cell_type": "code",
   "execution_count": 34,
   "id": "ff627446-866a-49c7-9ccb-0746893f9410",
   "metadata": {},
   "outputs": [
    {
     "name": "stdout",
     "output_type": "stream",
     "text": [
      "\n",
      "GCN test accuracy for Cora dataset: 79.70%\n"
     ]
    }
   ],
   "source": [
    "# Test GCN model on Cora dataset\n",
    "gcn_cora.eval()\n",
    "y_pred = gcn_cora(data_cora.x, data_cora.edge_index)\n",
    "test_acc = accuracy(y_pred[data_cora.test_mask].argmax(dim=1), data_cora.y[data_cora.test_mask])\n",
    "print(f'\\nGCN test accuracy for Cora dataset: {test_acc*100:.2f}%')"
   ]
  },
  {
   "cell_type": "markdown",
   "id": "48327c10-d43d-4d6b-92e3-28401e5ff137",
   "metadata": {},
   "source": [
    "### GCN for Facebook Page-Page dataset"
   ]
  },
  {
   "cell_type": "code",
   "execution_count": 35,
   "id": "2ea2d1df-9969-4feb-93f9-5eae813afc34",
   "metadata": {},
   "outputs": [
    {
     "data": {
      "text/plain": [
       "GCN(\n",
       "  (gcn1): GCNConv(128, 16)\n",
       "  (gcn2): GCNConv(16, 4)\n",
       ")"
      ]
     },
     "execution_count": 35,
     "metadata": {},
     "output_type": "execute_result"
    }
   ],
   "source": [
    "gcn_fb = GCN(dataset_facebook.num_features, 16, dataset_facebook.num_classes)\n",
    "gcn_fb"
   ]
  },
  {
   "cell_type": "code",
   "execution_count": 36,
   "id": "c8dafff7-dfb1-4a1a-9111-ab9dc086a37f",
   "metadata": {},
   "outputs": [],
   "source": [
    "def accuracy(y_pred, y_true):\n",
    "    return torch.sum(y_pred == y_true) / len(y_true)\n",
    "    \n",
    "criterion = torch.nn.CrossEntropyLoss() # loss\n",
    "optimizer = torch.optim.Adam(gcn_fb.parameters(), lr=0.005, weight_decay=5e-4)\n",
    "num_epochs = 100"
   ]
  },
  {
   "cell_type": "code",
   "execution_count": 37,
   "id": "301272e3-b5a1-4ae0-ad35-ba66fcf813e5",
   "metadata": {},
   "outputs": [
    {
     "name": "stdout",
     "output_type": "stream",
     "text": [
      "Epoch   0 | Train Loss: 1.343 | Train Acc: 30.43%| Val Loss: 1.35 | Val Acc: 30.77%\n",
      "Epoch  20 | Train Loss: 0.636 | Train Acc: 78.84%| Val Loss: 0.63 | Val Acc: 78.94%\n",
      "Epoch  40 | Train Loss: 0.424 | Train Acc: 85.89%| Val Loss: 0.42 | Val Acc: 86.39%\n",
      "Epoch  60 | Train Loss: 0.343 | Train Acc: 89.16%| Val Loss: 0.34 | Val Acc: 89.34%\n",
      "Epoch  80 | Train Loss: 0.306 | Train Acc: 90.25%| Val Loss: 0.30 | Val Acc: 90.20%\n",
      "Epoch 100 | Train Loss: 0.285 | Train Acc: 90.97%| Val Loss: 0.28 | Val Acc: 91.10%\n"
     ]
    }
   ],
   "source": [
    "# Train GCN model on Facebook Page-Page dataset\n",
    "gcn_fb.train()\n",
    "for epoch in range(num_epochs+1):\n",
    "    optimizer.zero_grad()\n",
    "    y_pred = gcn_fb(data_facebook.x, data_facebook.edge_index)\n",
    "    loss = criterion(y_pred[data_facebook.train_mask], data_facebook.y[data_facebook.train_mask]) # loss = criterion(y_pred, y_true)\n",
    "    acc = accuracy(y_pred[data_facebook.train_mask].argmax(dim=1), data_facebook.y[data_facebook.train_mask])\n",
    "    loss.backward()\n",
    "    optimizer.step()\n",
    "    if (epoch % 20) == 0:\n",
    "        val_loss = criterion(y_pred[data_facebook.val_mask], data_facebook.y[data_facebook.val_mask])\n",
    "        val_acc = accuracy(y_pred[data_facebook.val_mask].argmax(dim=1), data_facebook.y[data_facebook.val_mask])\n",
    "        print(f'Epoch {epoch:>3} | Train Loss: {loss:.3f} | Train Acc: {acc*100:>5.2f}%'\n",
    "              f'| Val Loss: {val_loss:.2f} | Val Acc: {val_acc*100:.2f}%')"
   ]
  },
  {
   "cell_type": "code",
   "execution_count": 38,
   "id": "1a2cb46a-f357-4268-9061-db03e2e1b4cb",
   "metadata": {},
   "outputs": [
    {
     "name": "stdout",
     "output_type": "stream",
     "text": [
      "\n",
      "GCN test accuracy for Facebook Page-Page dataset: 89.83%\n"
     ]
    }
   ],
   "source": [
    "# Test GCN model on Facebook Page-Page dataset\n",
    "gcn_fb.eval()\n",
    "y_pred = gcn_fb(data_facebook.x, data_facebook.edge_index)\n",
    "test_acc = accuracy(y_pred[data_facebook.test_mask].argmax(dim=1), data_facebook.y[data_facebook.test_mask])\n",
    "print(f'\\nGCN test accuracy for Facebook Page-Page dataset: {test_acc*100:.2f}%')"
   ]
  },
  {
   "cell_type": "code",
   "execution_count": null,
   "id": "bc856987-33bb-42e7-b434-a73fdabb65e6",
   "metadata": {},
   "outputs": [],
   "source": []
  }
 ],
 "metadata": {
  "kernelspec": {
   "display_name": "Python 3 (ipykernel)",
   "language": "python",
   "name": "python3"
  },
  "language_info": {
   "codemirror_mode": {
    "name": "ipython",
    "version": 3
   },
   "file_extension": ".py",
   "mimetype": "text/x-python",
   "name": "python",
   "nbconvert_exporter": "python",
   "pygments_lexer": "ipython3",
   "version": "3.12.3"
  }
 },
 "nbformat": 4,
 "nbformat_minor": 5
}
