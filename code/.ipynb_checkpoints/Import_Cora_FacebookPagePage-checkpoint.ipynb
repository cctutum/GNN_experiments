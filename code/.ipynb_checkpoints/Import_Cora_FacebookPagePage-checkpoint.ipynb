{
 "cells": [
  {
   "cell_type": "markdown",
   "id": "b61992d3-4e70-40fb-b934-c755a8bd5309",
   "metadata": {},
   "source": [
    "## The Cora Dataset\n",
    "\n",
    "The Cora dataset consists of 2708 scientific publications classified into one of seven classes. The citation network consists of 5429 links. Each publication in the dataset is described by a 0/1-valued word vector indicating the absence/presence of the corresponding word from the dictionary. The dictionary consists of 1433 unique words.\n",
    "(Note: Load **cora.graphml** file into yEd live.) \n",
    "\n",
    "![cora dataset](../figures/yEd-live-cora.png)\n"
   ]
  },
  {
   "cell_type": "code",
   "execution_count": 1,
   "id": "07f842a1-41da-42d2-96e6-8e0712f6ddd8",
   "metadata": {},
   "outputs": [
    {
     "name": "stdout",
     "output_type": "stream",
     "text": [
      "Data(x=[2708, 1433], edge_index=[2, 10556], y=[2708], train_mask=[2708], val_mask=[2708], test_mask=[2708])\n"
     ]
    }
   ],
   "source": [
    "from torch_geometric.datasets import Planetoid\n",
    "dataset = Planetoid(root=\"../data\", name=\"Cora\")\n",
    "\n",
    "# Cora only has one graph\n",
    "data = dataset[0]\n",
    "print(data)"
   ]
  },
  {
   "cell_type": "code",
   "execution_count": 2,
   "id": "fceb5c0a-21e6-4c49-bec2-cd4dce62ae42",
   "metadata": {},
   "outputs": [
    {
     "name": "stdout",
     "output_type": "stream",
     "text": [
      "Dataset: Cora()\n",
      "URL: https://github.com/kimiyoung/planetoid/raw/master/data\n",
      "---------------\n",
      "Number of graphs: 1\n",
      "Number of nodes: 2708\n",
      "Number of features: 1433\n",
      "Number of classes: 7\n",
      "\n",
      "Graph:\n",
      "------\n",
      "Edges are directed: False\n",
      "Graph has isolated nodes: False\n",
      "Graph has loops: False\n"
     ]
    }
   ],
   "source": [
    "print(f'Dataset: {dataset}')\n",
    "print(f'URL: {dataset.url}')\n",
    "print('---------------')\n",
    "print(f'Number of graphs: {len(dataset)}')\n",
    "print(f'Number of nodes: {data.x.shape[0]}')\n",
    "print(f'Number of features: {dataset.num_features}')\n",
    "print(f'Number of classes: {dataset.num_classes}')\n",
    "print(f'\\nGraph:')\n",
    "print('------')\n",
    "print(f'Edges are directed: {data.is_directed()}')\n",
    "print(f'Graph has isolated nodes: {data.has_isolated_nodes()}')\n",
    "print(f'Graph has loops: {data.has_self_loops()}')"
   ]
  },
  {
   "cell_type": "markdown",
   "id": "643e4a57-3fc0-4616-8a74-28db2f2ee7d4",
   "metadata": {},
   "source": [
    "## The Facebook Page-Page Dataset\n",
    "\n",
    "This dataset was created using the Facebook Graph API in November 2017. In this dataset, each of the 22,470 nodes represents an official Facebook page. Pages are connected when there are mutual likes between them. Node features (128-dim vectors) are created from textual descriptions written by the owners of these pages. Our goal is to classify each node into one of four categories: *politicians*, *companies*, *television shows*, and *governmental organizations*."
   ]
  },
  {
   "cell_type": "code",
   "execution_count": 18,
   "id": "31bd0059-7a03-4d4c-b81f-bfbb62d0097f",
   "metadata": {},
   "outputs": [
    {
     "name": "stdout",
     "output_type": "stream",
     "text": [
      "Data(x=[22470, 128], edge_index=[2, 342004], y=[22470])\n"
     ]
    }
   ],
   "source": [
    "from torch_geometric.datasets import FacebookPagePage\n",
    "dataset = FacebookPagePage(root=\"../data/Facebook-Page-Page\")\n",
    "\n",
    "data = dataset[0]\n",
    "print(data)"
   ]
  },
  {
   "cell_type": "code",
   "execution_count": 7,
   "id": "34b0715f-7453-4fe6-8728-c04eb26ce34a",
   "metadata": {},
   "outputs": [
    {
     "name": "stdout",
     "output_type": "stream",
     "text": [
      "Dataset: FacebookPagePage()\n",
      "URL: https://graphmining.ai/datasets/ptg/facebook.npz\n",
      "---------------\n",
      "Number of graphs: 1\n",
      "Number of nodes: 22470\n",
      "Number of features: 128\n",
      "Number of classes: 4\n",
      "\n",
      "Graph:\n",
      "------\n",
      "Edges are directed: False\n",
      "Graph has isolated nodes: False\n",
      "Graph has loops: True\n"
     ]
    }
   ],
   "source": [
    "print(f'Dataset: {dataset}')\n",
    "print(f'URL: {dataset.url}')\n",
    "print('---------------')\n",
    "print(f'Number of graphs: {len(dataset)}')\n",
    "print(f'Number of nodes: {data.x.shape[0]}')\n",
    "print(f'Number of features: {dataset.num_features}')\n",
    "print(f'Number of classes: {dataset.num_classes}')\n",
    "print(f'\\nGraph:')\n",
    "print('------')\n",
    "print(f'Edges are directed: {data.is_directed()}')\n",
    "print(f'Graph has isolated nodes: {data.has_isolated_nodes()}')\n",
    "print(f'Graph has loops: {data.has_self_loops()}')"
   ]
  },
  {
   "cell_type": "markdown",
   "id": "390f507c-749f-47e9-acde-34751771f402",
   "metadata": {},
   "source": [
    "Unlike Cora, Facebook Page-Page doesn’t have training, evaluation, and test masks by default. We can arbitrarily create masks with the range() function"
   ]
  },
  {
   "cell_type": "code",
   "execution_count": 8,
   "id": "9f000b53-4384-4d64-b5fd-c04292573ccf",
   "metadata": {},
   "outputs": [],
   "source": [
    "data.train_mask = range(18000)\n",
    "data.val_mask = range(18001, 20000)\n",
    "data.test_mask = range(20001, 22470)"
   ]
  },
  {
   "cell_type": "markdown",
   "id": "00b5cccd-fece-4bf7-9626-4b8d4b7865d5",
   "metadata": {},
   "source": [
    "I couldn't find a *.grahml* file of the Facebook Page-Page dataset to be able to plot on **yEd live** (because the size of the graph prohibits the use of **networkx** for visualization. Therefore I will create a .grapml file using networkx and view the graph on yEd live.\n",
    "\n",
    "NetworkX (i.e., **write_grapml()** function) expects the node and edge attributes to be Python data types, but the PyTorch Geometric dataset contains tensors, which are not supported by the GraphML format. To resolve this issue, we need to convert the tensors to Python data types before creating the NetworkX graph object."
   ]
  },
  {
   "cell_type": "code",
   "execution_count": 26,
   "id": "e2c4c286-cb74-4333-bec4-83554b18a69f",
   "metadata": {},
   "outputs": [],
   "source": [
    "import networkx as nx\n",
    "from torch_geometric.utils.convert import to_networkx\n",
    "\n",
    "data = dataset[0]\n",
    "G = to_networkx(data)\n",
    "\n",
    "nx.write_graphml(G, '../data/facebook_page_page.graphml')"
   ]
  },
  {
   "cell_type": "markdown",
   "id": "887238ec-2e4e-4520-8ad2-3024a9e6f81b",
   "metadata": {},
   "source": [
    "It is not straightforward to plot this graph in **yEd live**. It can be done using **Gephi**, but the nodes with few connections should be filtered out to improve the performance. The ramaining nodes can be plotted in a way that the size of the nodes depends on their number of connections and their color indicates the category they belong to. Two layouts can be applied: *Fruchterman-Reingold* and *ForceAtlas2*."
   ]
  },
  {
   "cell_type": "code",
   "execution_count": null,
   "id": "2fb81876-e88d-48ed-86f2-b24db712bf6b",
   "metadata": {},
   "outputs": [],
   "source": []
  }
 ],
 "metadata": {
  "kernelspec": {
   "display_name": "Python 3 (ipykernel)",
   "language": "python",
   "name": "python3"
  },
  "language_info": {
   "codemirror_mode": {
    "name": "ipython",
    "version": 3
   },
   "file_extension": ".py",
   "mimetype": "text/x-python",
   "name": "python",
   "nbconvert_exporter": "python",
   "pygments_lexer": "ipython3",
   "version": "3.12.3"
  }
 },
 "nbformat": 4,
 "nbformat_minor": 5
}
